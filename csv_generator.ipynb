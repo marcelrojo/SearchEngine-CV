{
 "cells": [
  {
   "cell_type": "code",
   "execution_count": null,
   "metadata": {},
   "outputs": [],
   "source": [
    "import tensorflow as tf\n",
    "from tensorflow.keras.models import load_model\n",
    "\n",
    "from PIL import Image as PILImage\n",
    "\n",
    "import cv2\n",
    "import numpy as np\n",
    "import glob\n",
    "import os\n",
    "\n",
    "import tensorflow as tf\n",
    "from sklearn.model_selection import train_test_split\n",
    "from tensorflow.keras import layers, models\n",
    "from tensorflow.keras.applications import ResNet50\n",
    "from tensorflow.keras.utils import Sequence\n",
    "\n",
    "from keras.layers import Layer\n",
    "\n",
    "import csv\n",
    "import pandas as pd"
   ]
  },
  {
   "cell_type": "code",
   "execution_count": 2,
   "metadata": {},
   "outputs": [],
   "source": [
    "IMAGE_SIZE = (256, 256)"
   ]
  },
  {
   "cell_type": "code",
   "execution_count": 3,
   "metadata": {},
   "outputs": [],
   "source": [
    "def imshow(a, size=1.0):\n",
    "    # Clip and convert the image to uint8\n",
    "    a = a.clip(0, 255).astype(\"uint8\")\n",
    "    \n",
    "    # Resize the image if a size factor is provided\n",
    "    if size != 1.0:\n",
    "        new_dim = (int(a.shape[1] * size), int(a.shape[0] * size))\n",
    "        a = cv2.resize(a, new_dim, interpolation=cv2.INTER_AREA)\n",
    "    \n",
    "    # Display the image\n",
    "    display(PILImage.fromarray(a))"
   ]
  },
  {
   "cell_type": "code",
   "execution_count": 4,
   "metadata": {},
   "outputs": [],
   "source": [
    "def resize_crop(image, image_size=(256, 256)):\n",
    "    target_height, target_width = image_size\n",
    "    original_height, original_width = image.shape[:2]\n",
    "\n",
    "    original_aspect = original_width / original_height\n",
    "    target_aspect = target_width / target_height\n",
    "\n",
    "    if original_aspect > target_aspect:\n",
    "        new_width = original_height\n",
    "        crop_x = (original_width - new_width) // 2\n",
    "        cropped_image = image[:, crop_x:crop_x + new_width]\n",
    "    elif original_aspect < target_aspect:\n",
    "        new_height = original_width\n",
    "        crop_y = (original_height - new_height) // 2\n",
    "        cropped_image = image[crop_y:crop_y + new_height, :]\n",
    "    else:\n",
    "        cropped_image = image\n",
    "\n",
    "    resized_image = cv2.resize(cropped_image, (target_width, target_height))\n",
    "    return resized_image\n",
    "\n",
    "def preprocess(image):\n",
    "    image = image / 255.0\n",
    "    image = resize_crop(image)\n",
    "    image = cv2.GaussianBlur(image, (5, 5), 0)\n",
    "    return image\n",
    "\n",
    "def read_image(image_file):\n",
    "    image = cv2.imread(image_file)\n",
    "    image = preprocess(image) \n",
    "    return image "
   ]
  },
  {
   "cell_type": "code",
   "execution_count": 5,
   "metadata": {},
   "outputs": [],
   "source": [
    "data_folder = \"Data_Final/*\"\n",
    "image_files = glob.glob(os.path.join(data_folder, \"*.jpg\"), recursive=True)"
   ]
  },
  {
   "cell_type": "code",
   "execution_count": null,
   "metadata": {},
   "outputs": [],
   "source": [
    "print(image_files[0])"
   ]
  },
  {
   "cell_type": "code",
   "execution_count": null,
   "metadata": {},
   "outputs": [],
   "source": [
    "parsed = image_files[0].replace(\"Data_Final/\", \"\")\n",
    "print(parsed)"
   ]
  },
  {
   "cell_type": "code",
   "execution_count": 8,
   "metadata": {},
   "outputs": [],
   "source": [
    "class L2Normalization(Layer):\n",
    "    def call(self, inputs):\n",
    "        return tf.math.l2_normalize(inputs, axis=1)"
   ]
  },
  {
   "cell_type": "code",
   "execution_count": 9,
   "metadata": {},
   "outputs": [],
   "source": [
    "# model = load_model(\"Models/transfer_custom_big_2.keras\",\n",
    "#     custom_objects={\"L2Normalization\": L2Normalization})"
   ]
  },
  {
   "cell_type": "code",
   "execution_count": null,
   "metadata": {},
   "outputs": [],
   "source": [
    "model = load_model(\"Models/ResNet50.keras\")"
   ]
  },
  {
   "cell_type": "code",
   "execution_count": null,
   "metadata": {},
   "outputs": [],
   "source": [
    "def extract_and_save_embeddings(image_paths, embedding_model, save_path='embeddings.csv'):\n",
    "    embeddings = []\n",
    "    filenames = []\n",
    "    \n",
    "    count = 0\n",
    "    for image_path in image_paths:\n",
    "        image = read_image(image_path)\n",
    "        file_name = image_path.replace(\"Data_Final/\", \"\")\n",
    "        \n",
    "        image = np.expand_dims(image, axis=0)  \n",
    "        \n",
    "        embedding = embedding_model.predict(image, verbose=0)\n",
    "        \n",
    "        embeddings.append(embedding.flatten())\n",
    "        filenames.append(file_name)  \n",
    "        \n",
    "        if count %300 == 0:\n",
    "            print(f\"Processed {count}/{len(image_paths)} images\")\n",
    "        count += 1\n",
    "    \n",
    "    embeddings = np.array(embeddings)\n",
    "    df = pd.DataFrame(embeddings)\n",
    "    df['filename'] = filenames\n",
    "    df.to_csv(save_path, index=False)\n",
    "    print(f\"Embeddings saved to {save_path}\")\n",
    "\n",
    "\n",
    "extract_and_save_embeddings(image_files , model, save_path='CSVs/ResNet50.csv')"
   ]
  }
 ],
 "metadata": {
  "kernelspec": {
   "display_name": "CV2",
   "language": "python",
   "name": "python3"
  },
  "language_info": {
   "codemirror_mode": {
    "name": "ipython",
    "version": 3
   },
   "file_extension": ".py",
   "mimetype": "text/x-python",
   "name": "python",
   "nbconvert_exporter": "python",
   "pygments_lexer": "ipython3",
   "version": "3.10.9"
  }
 },
 "nbformat": 4,
 "nbformat_minor": 2
}
