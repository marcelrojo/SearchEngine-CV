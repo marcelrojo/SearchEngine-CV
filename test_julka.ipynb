{
 "cells": [
  {
   "cell_type": "code",
   "execution_count": 99,
   "metadata": {},
   "outputs": [],
   "source": [
    "import numpy as np\n",
    "import tensorflow as tf\n",
    "from tensorflow.keras.models import load_model\n",
    "from tensorflow.keras.layers import Layer\n",
    "from tensorflow.keras.models import Model\n",
    "import cv2\n",
    "from PIL import Image as PILImage\n",
    "import glob\n",
    "import os\n",
    "from annoy import AnnoyIndex\n",
    "import matplotlib.pyplot as plt\n",
    "\n",
    "import csv\n",
    "import pandas as pd\n"
   ]
  },
  {
   "cell_type": "code",
   "execution_count": 100,
   "metadata": {},
   "outputs": [],
   "source": [
    "IMAGE_SIZE = (256, 256)"
   ]
  },
  {
   "cell_type": "code",
   "execution_count": 101,
   "metadata": {},
   "outputs": [],
   "source": [
    "def imshow(a, size=1.0):\n",
    "    # Clip and convert the image to uint8\n",
    "    a = a.clip(0, 255).astype(\"uint8\")\n",
    "    \n",
    "    # Resize the image if a size factor is provided\n",
    "    if size != 1.0:\n",
    "        new_dim = (int(a.shape[1] * size), int(a.shape[0] * size))\n",
    "        a = cv2.resize(a, new_dim, interpolation=cv2.INTER_AREA)\n",
    "    \n",
    "    # Display the image\n",
    "    display(PILImage.fromarray(a))"
   ]
  },
  {
   "cell_type": "code",
   "execution_count": 102,
   "metadata": {},
   "outputs": [],
   "source": [
    "def resize_crop(image, image_size=(256, 256)):\n",
    "    target_height, target_width = image_size\n",
    "    original_height, original_width = image.shape[:2]\n",
    "\n",
    "    original_aspect = original_width / original_height\n",
    "    target_aspect = target_width / target_height\n",
    "\n",
    "    if original_aspect > target_aspect:\n",
    "        new_width = original_height\n",
    "        crop_x = (original_width - new_width) // 2\n",
    "        cropped_image = image[:, crop_x:crop_x + new_width]\n",
    "    elif original_aspect < target_aspect:\n",
    "        new_height = original_width\n",
    "        crop_y = (original_height - new_height) // 2\n",
    "        cropped_image = image[crop_y:crop_y + new_height, :]\n",
    "    else:\n",
    "        cropped_image = image\n",
    "\n",
    "    resized_image = cv2.resize(cropped_image, (target_width, target_height))\n",
    "    return resized_image\n",
    "\n",
    "def preprocess(image):\n",
    "    image = image / 255.0\n",
    "    image = resize_crop(image)\n",
    "    image = cv2.GaussianBlur(image, (5, 5), 0)\n",
    "    return image\n",
    "\n",
    "def read_image(image_file):\n",
    "    image = cv2.imread(image_file)\n",
    "    image = preprocess(image) \n",
    "    return image    "
   ]
  },
  {
   "cell_type": "code",
   "execution_count": 103,
   "metadata": {},
   "outputs": [],
   "source": [
    "data_folder = \"Data_Final/*\"\n",
    "image_files = glob.glob(os.path.join(data_folder, \"*.jpg\"), recursive=True)"
   ]
  },
  {
   "cell_type": "code",
   "execution_count": 104,
   "metadata": {},
   "outputs": [],
   "source": [
    "csv_file = \"App/src/CSVs/classification_model_embeddings.csv\"\n",
    "#csv_file = \"CSVs/classification_model_embeddings.csv\""
   ]
  },
  {
   "cell_type": "code",
   "execution_count": 105,
   "metadata": {},
   "outputs": [],
   "source": [
    "embeddings_df = pd.read_csv(csv_file)"
   ]
  },
  {
   "cell_type": "code",
   "execution_count": 106,
   "metadata": {},
   "outputs": [],
   "source": [
    "#embedding_model = load_model(\"App/src/Models/classification_model.keras\")\n",
    "embedding_model = load_model(\"Models/embedding_model_julka.keras\")"
   ]
  },
  {
   "cell_type": "code",
   "execution_count": 107,
   "metadata": {},
   "outputs": [],
   "source": [
    "from sklearn.metrics.pairwise import cosine_similarity\n",
    "\n",
    "def get_most_similar_images(query_image_path, embedding_model, embeddings_df, k=5):\n",
    "    query_image = read_image(query_image_path)\n",
    "    query_image = np.expand_dims(query_image, axis=0)\n",
    "    \n",
    "    query_embedding = embedding_model.predict(query_image).flatten()\n",
    "    \n",
    "    embeddings = embeddings_df.drop(columns=['filename']).values\n",
    "    filenames = embeddings_df['filename'].values\n",
    "    \n",
    "    similarities = cosine_similarity([query_embedding], embeddings)\n",
    "    \n",
    "    top_k_indices = similarities[0].argsort()[-k:][::-1]\n",
    "    \n",
    "    most_similar_filenames = filenames[top_k_indices]\n",
    "    \n",
    "    return most_similar_filenames, similarities[0][top_k_indices]"
   ]
  },
  {
   "cell_type": "code",
   "execution_count": null,
   "metadata": {},
   "outputs": [],
   "source": [
    "import matplotlib.pyplot as plt\n",
    "\n",
    "query_folder = \"Queries_Big/*\"\n",
    "query_files = glob.glob(query_folder)\n",
    "\n",
    "for query in query_files:\n",
    "    print(query)\n",
    "    query_img = read_image(query)\n",
    "    #query_img = cv2.cvtColor(query_img, cv2.COLOR_BGR2RGB)\n",
    "    \n",
    "    matches, dists = get_most_similar_images(query, embedding_model, embeddings_df, k=3)\n",
    "    \n",
    "    match_1 = read_image(\"Data_Final/\" + matches[0])\n",
    "    match_2 = read_image(\"Data_Final/\" + matches[1])\n",
    "    match_3 = read_image(\"Data_Final/\" + matches[2])\n",
    "    \n",
    "    #match_1 = cv2.cvtColor(match_1, cv2.COLOR_BGR2RGB)\n",
    "    #match_2 = cv2.cvtColor(match_2, cv2.COLOR_BGR2RGB)\n",
    "    #match_3 = cv2.cvtColor(match_3, cv2.COLOR_BGR2RGB)\n",
    "    \n",
    "    fig, axes = plt.subplots(1, 4, figsize=(15, 5))\n",
    "    \n",
    "    axes[0].imshow(query_img)\n",
    "    axes[0].set_title(\"Query\")\n",
    "    axes[0].axis(\"off\")\n",
    "    \n",
    "    axes[1].imshow(match_1)\n",
    "    axes[1].set_title(f\"Distance: {dists[0]:.4f}\")\n",
    "    axes[1].axis(\"off\")\n",
    "    \n",
    "    axes[2].imshow(match_2)\n",
    "    axes[2].set_title(f\"Distance: {dists[1]:.4f}\")\n",
    "    axes[2].axis(\"off\")\n",
    "    \n",
    "    axes[3].imshow(match_3)\n",
    "    axes[3].set_title(f\"Distance: {dists[2]:.4f}\")\n",
    "    axes[3].axis(\"off\")"
   ]
  }
 ],
 "metadata": {
  "kernelspec": {
   "display_name": "CV2",
   "language": "python",
   "name": "python3"
  },
  "language_info": {
   "codemirror_mode": {
    "name": "ipython",
    "version": 3
   },
   "file_extension": ".py",
   "mimetype": "text/x-python",
   "name": "python",
   "nbconvert_exporter": "python",
   "pygments_lexer": "ipython3",
   "version": "3.10.9"
  }
 },
 "nbformat": 4,
 "nbformat_minor": 2
}
