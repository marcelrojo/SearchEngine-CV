{
 "cells": [
  {
   "cell_type": "code",
   "execution_count": 143,
   "metadata": {},
   "outputs": [],
   "source": [
    "import tensorflow as tf\n",
    "from tensorflow.keras.models import load_model\n",
    "\n",
    "from PIL import Image as PILImage\n",
    "\n",
    "import cv2\n",
    "import numpy as np\n",
    "import glob\n",
    "import os\n",
    "\n",
    "import tensorflow as tf\n",
    "from sklearn.model_selection import train_test_split\n",
    "from tensorflow.keras import layers, models\n",
    "from tensorflow.keras.applications import ResNet50\n",
    "from tensorflow.keras.utils import Sequence\n",
    "\n",
    "from keras.layers import Layer\n",
    "\n",
    "import csv\n",
    "import pandas as pd\n",
    "\n",
    "from annoy import AnnoyIndex"
   ]
  },
  {
   "cell_type": "code",
   "execution_count": 144,
   "metadata": {},
   "outputs": [],
   "source": [
    "IMAGE_SIZE = (256, 256)"
   ]
  },
  {
   "cell_type": "code",
   "execution_count": 145,
   "metadata": {},
   "outputs": [],
   "source": [
    "def imshow(a, size=1.0):\n",
    "    # Clip and convert the image to uint8\n",
    "    a = a.clip(0, 255).astype(\"uint8\")\n",
    "    \n",
    "    # Resize the image if a size factor is provided\n",
    "    if size != 1.0:\n",
    "        new_dim = (int(a.shape[1] * size), int(a.shape[0] * size))\n",
    "        a = cv2.resize(a, new_dim, interpolation=cv2.INTER_AREA)\n",
    "    \n",
    "    # Display the image\n",
    "    display(PILImage.fromarray(a))"
   ]
  },
  {
   "cell_type": "code",
   "execution_count": 146,
   "metadata": {},
   "outputs": [],
   "source": [
    "data_folder = \"Data/*\"\n",
    "image_files = glob.glob(os.path.join(data_folder, \"*.jpg\"), recursive=True)"
   ]
  },
  {
   "cell_type": "code",
   "execution_count": 147,
   "metadata": {},
   "outputs": [],
   "source": [
    "class L2Normalization(Layer):\n",
    "    def call(self, inputs):\n",
    "        return tf.math.l2_normalize(inputs, axis=1)"
   ]
  },
  {
   "cell_type": "code",
   "execution_count": 148,
   "metadata": {},
   "outputs": [],
   "source": [
    "model = load_model(\"Models/transfer_custom_big_2.keras\",\n",
    "    custom_objects={\"L2Normalization\": L2Normalization})"
   ]
  },
  {
   "cell_type": "code",
   "execution_count": 149,
   "metadata": {},
   "outputs": [],
   "source": [
    "def read_image(file_path):\n",
    "    img = cv2.imread(file_path)\n",
    "    img = cv2.resize(img, IMAGE_SIZE)\n",
    "    img = cv2.cvtColor(img, cv2.COLOR_BGR2RGB)\n",
    "    return img"
   ]
  },
  {
   "cell_type": "code",
   "execution_count": null,
   "metadata": {},
   "outputs": [],
   "source": [
    "import tensorflow as tf\n",
    "\n",
    "img_1 = read_image(image_files[0])\n",
    "emb_1 = model.predict(np.expand_dims(img_1, axis=0), verbose=1)\n",
    "imshow(img_1)\n",
    "\n",
    "img_2 = read_image(image_files[1])\n",
    "emb_2 = model.predict(np.expand_dims(img_2, axis=0), verbose=1)\n",
    "imshow(img_2)\n",
    "\n",
    "img_3 = read_image(image_files[342])\n",
    "emb_3 = model.predict(np.expand_dims(img_3, axis=0), verbose=1)\n",
    "imshow(img_3)\n",
    "\n",
    "dist_1_2 = np.linalg.norm(emb_1 - emb_2)\n",
    "dist_1_3 = np.linalg.norm(emb_1 - emb_3)\n",
    "\n",
    "print(\"Distance between image 1 and image 2:\", dist_1_2)\n",
    "print(\"Distance between image 1 and image 3:\", dist_1_3)"
   ]
  },
  {
   "cell_type": "code",
   "execution_count": null,
   "metadata": {},
   "outputs": [],
   "source": [
    "#GENERATE EMBEDDINGS FOR ALL IMAGES AND STORE AS ANNOY FIEL FOR QUCIK SEARCH\n",
    "\n",
    "embedding_dimensions = 512\n",
    "index = AnnoyIndex(embedding_dimensions, \"angular\")  # Use \"angular\" or \"euclidean\" as needed\n",
    "embeddings=[]\n",
    "\n",
    "# Embedding extraction loop\n",
    "for i, file_path in enumerate(image_files):\n",
    "    img = read_image(file_path)\n",
    "    emb = model.predict(np.expand_dims(img, axis=0), verbose=0)[0]\n",
    "    emb = np.array(emb)\n",
    "    embeddings.append(emb)\n",
    "    \n",
    "    # Add the embedding to the Annoy index\n",
    "    index.add_item(i, emb)\n",
    "    \n",
    "    if (i + 1) % 500 == 0:\n",
    "        print(f\"Processed {i + 1} of {len(image_files)}\")\n",
    "\n",
    "# Build the index (You can change the number of trees to optimize for memory/speed)\n",
    "index.build(10)\n",
    "\n",
    "# Save the Annoy index to a file\n",
    "index_file = \"Annoys/custom_transfer_big_2.ann\"\n",
    "index.save(index_file)\n",
    "\n",
    "print(f\"Annoy index saved to {index_file}\")"
   ]
  },
  {
   "cell_type": "code",
   "execution_count": 152,
   "metadata": {},
   "outputs": [],
   "source": [
    "# from sklearn.decomposition import PCA\n",
    "\n",
    "# import matplotlib.pyplot as plt"
   ]
  },
  {
   "cell_type": "code",
   "execution_count": 153,
   "metadata": {},
   "outputs": [],
   "source": [
    "# def get_label(file_path):\n",
    "#     label = file_path.split(\"/\")[-2]\n",
    "#     label = label.split(\".\")[-2]\n",
    "#     label = int(label)\n",
    "#     return label\n",
    "\n",
    "# labels = [get_label(file_path) for file_path in image_files]"
   ]
  },
  {
   "cell_type": "code",
   "execution_count": 154,
   "metadata": {},
   "outputs": [],
   "source": [
    "\n",
    "# pca = PCA(n_components=2)\n",
    "# reduced_embeddings = pca.fit_transform(embeddings)"
   ]
  },
  {
   "cell_type": "code",
   "execution_count": 155,
   "metadata": {},
   "outputs": [],
   "source": [
    "# def plot_embeddings(embeddings, labels):\n",
    "#     plt.figure(figsize=(10, 8))\n",
    "#     for label in set(labels):\n",
    "#         indices = [i for i, lbl in enumerate(labels) if lbl == label]\n",
    "#         plt.scatter(\n",
    "#             embeddings[indices, 0], \n",
    "#             embeddings[indices, 1], \n",
    "#             label=f\"Class {label}\", \n",
    "#             alpha=0.7\n",
    "#         )\n",
    "#     plt.legend()\n",
    "#     plt.title(\"PCA of Embedding Space\")\n",
    "#     plt.xlabel(\"Principal Component 1\")\n",
    "#     plt.ylabel(\"Principal Component 2\")\n",
    "#     plt.show()\n",
    "\n",
    "# # Plot the reduced embeddings\n",
    "# plot_embeddings(reduced_embeddings, labels)"
   ]
  }
 ],
 "metadata": {
  "kernelspec": {
   "display_name": "CV2",
   "language": "python",
   "name": "python3"
  },
  "language_info": {
   "codemirror_mode": {
    "name": "ipython",
    "version": 3
   },
   "file_extension": ".py",
   "mimetype": "text/x-python",
   "name": "python",
   "nbconvert_exporter": "python",
   "pygments_lexer": "ipython3",
   "version": "3.10.9"
  }
 },
 "nbformat": 4,
 "nbformat_minor": 2
}
